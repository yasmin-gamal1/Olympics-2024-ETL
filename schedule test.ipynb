{
 "cells": [
  {
   "cell_type": "code",
   "execution_count": null,
   "metadata": {},
   "outputs": [],
   "source": []
  },
  {
   "cell_type": "code",
   "execution_count": 5,
   "metadata": {},
   "outputs": [],
   "source": [
    "import schedule\n",
    "import time\n",
    "import subprocess\n",
    "import logging\n",
    "\n",
    "\n",
    "logging.basicConfig(filename='scheduler.log', level=logging.INFO, format='%(asctime)s - %(levelname)s - %(message)s')\n",
    "\n",
    "def job():\n",
    "    try:\n",
    "        logging.info('Starting Jupyter notebook execution')\n",
    "        subprocess.run([\"jupyter\", \"nbconvert\", \"--to\", \"notebook\", \"--execute\", \n",
    "                        \"C:\\\\Users\\\\sweet\\\\Desktop\\\\DS Atos intern\\\\DS Task 3\\\\task 3.ipynb\",\n",
    "                        \"--output\", \"output_notebook.ipynb\"], check=True)\n",
    "        logging.info('Jupyter notebook executed successfully')\n",
    "    except subprocess.CalledProcessError as e:\n",
    "        logging.error(f'Error occurred: {e}')\n",
    "\n",
    "\n",
    "schedule.every(10).minutes.do(job)\n",
    "\n",
    "# Flag to control the loop\n",
    "job_executed = False\n",
    "\n",
    "while True:\n",
    "    if not job_executed:\n",
    "        schedule.run_pending()\n",
    "        time.sleep(1)\n",
    "        job_executed = True  \n",
    "    else:\n",
    "        break\n"
   ]
  },
  {
   "cell_type": "code",
   "execution_count": 6,
   "metadata": {},
   "outputs": [
    {
     "name": "stdout",
     "output_type": "stream",
     "text": [
      "c:\\Users\\sweet\\Desktop\\DS Atos intern\\DS Task 3\n"
     ]
    }
   ],
   "source": []
  },
  {
   "cell_type": "code",
   "execution_count": null,
   "metadata": {},
   "outputs": [],
   "source": []
  }
 ],
 "metadata": {
  "kernelspec": {
   "display_name": "Python 3",
   "language": "python",
   "name": "python3"
  },
  "language_info": {
   "codemirror_mode": {
    "name": "ipython",
    "version": 3
   },
   "file_extension": ".py",
   "mimetype": "text/x-python",
   "name": "python",
   "nbconvert_exporter": "python",
   "pygments_lexer": "ipython3",
   "version": "3.9.6"
  }
 },
 "nbformat": 4,
 "nbformat_minor": 2
}
